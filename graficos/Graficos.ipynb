{
  "nbformat": 4,
  "nbformat_minor": 0,
  "metadata": {
    "colab": {
      "provenance": []
    },
    "kernelspec": {
      "name": "python3",
      "display_name": "Python 3"
    },
    "language_info": {
      "name": "python"
    }
  },
  "cells": [
    {
      "cell_type": "code",
      "source": [
        "from IPython.display import Image, display\n",
        "\n",
        "urls = [\n",
        "    \"https://raw.githubusercontent.com/agmcsv/analisis-arandanos-huelva/main/graficos/Estacionalidad_Produccion_Arandanos.png\",\n",
        "    \"https://raw.githubusercontent.com/agmcsv/analisis-arandanos-huelva/main/graficos/Grafico_Municipios_Arandanos_Huelva.png\",\n",
        "    \"https://raw.githubusercontent.com/agmcsv/analisis-arandanos-huelva/main/graficos/Precios_Arandanos_.png\",\n",
        "    \"https://raw.githubusercontent.com/agmcsv/analisis-arandanos-huelva/main/graficos/graficos_produccion_arandanos.png\",\n",
        "    \"https://raw.githubusercontent.com/agmcsv/analisis-arandanos-huelva/main/graficos/graficos_variedades_arandanos.png\",\n",
        "    \"https://raw.githubusercontent.com/agmcsv/analisis-arandanos-huelva/main/graficos/meteorologia%20arandanos%20huelva.png\",\n",
        "    \"https://raw.githubusercontent.com/agmcsv/analisis-arandanos-huelva/main/graficos/top_pais_por_año_exportaciones.png\"\n",
        "]\n",
        "\n",
        "for url in urls:\n",
        "    display(Image(url=url, width=700))\n",
        "\n"
      ],
      "metadata": {
        "colab": {
          "base_uri": "https://localhost:8080/",
          "height": 1000
        },
        "id": "atRIZw9x__ec",
        "outputId": "d0e97041-3d1d-4db9-b194-380493b7058b"
      },
      "execution_count": 5,
      "outputs": [
        {
          "output_type": "display_data",
          "data": {
            "text/html": [
              "<img src=\"https://raw.githubusercontent.com/agmcsv/analisis-arandanos-huelva/main/graficos/Estacionalidad_Produccion_Arandanos.png\" width=\"700\"/>"
            ],
            "text/plain": [
              "<IPython.core.display.Image object>"
            ]
          },
          "metadata": {}
        },
        {
          "output_type": "display_data",
          "data": {
            "text/html": [
              "<img src=\"https://raw.githubusercontent.com/agmcsv/analisis-arandanos-huelva/main/graficos/Grafico_Municipios_Arandanos_Huelva.png\" width=\"700\"/>"
            ],
            "text/plain": [
              "<IPython.core.display.Image object>"
            ]
          },
          "metadata": {}
        },
        {
          "output_type": "display_data",
          "data": {
            "text/html": [
              "<img src=\"https://raw.githubusercontent.com/agmcsv/analisis-arandanos-huelva/main/graficos/Precios_Arandanos_.png\" width=\"700\"/>"
            ],
            "text/plain": [
              "<IPython.core.display.Image object>"
            ]
          },
          "metadata": {}
        },
        {
          "output_type": "display_data",
          "data": {
            "text/html": [
              "<img src=\"https://raw.githubusercontent.com/agmcsv/analisis-arandanos-huelva/main/graficos/graficos_produccion_arandanos.png\" width=\"700\"/>"
            ],
            "text/plain": [
              "<IPython.core.display.Image object>"
            ]
          },
          "metadata": {}
        },
        {
          "output_type": "display_data",
          "data": {
            "text/html": [
              "<img src=\"https://raw.githubusercontent.com/agmcsv/analisis-arandanos-huelva/main/graficos/graficos_variedades_arandanos.png\" width=\"700\"/>"
            ],
            "text/plain": [
              "<IPython.core.display.Image object>"
            ]
          },
          "metadata": {}
        },
        {
          "output_type": "display_data",
          "data": {
            "text/html": [
              "<img src=\"https://raw.githubusercontent.com/agmcsv/analisis-arandanos-huelva/main/graficos/meteorologia%20arandanos%20huelva.png\" width=\"700\"/>"
            ],
            "text/plain": [
              "<IPython.core.display.Image object>"
            ]
          },
          "metadata": {}
        },
        {
          "output_type": "display_data",
          "data": {
            "text/html": [
              "<img src=\"https://raw.githubusercontent.com/agmcsv/analisis-arandanos-huelva/main/graficos/top_pais_por_año_exportaciones.png\" width=\"700\"/>"
            ],
            "text/plain": [
              "<IPython.core.display.Image object>"
            ]
          },
          "metadata": {}
        }
      ]
    }
  ]
}